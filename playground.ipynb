{
  "nbformat": 4,
  "nbformat_minor": 0,
  "metadata": {
    "colab": {
      "name": "playground.ipynb",
      "provenance": [],
      "collapsed_sections": [],
      "authorship_tag": "ABX9TyMgwYlmhUZgMDdsUkOLvFXd",
      "include_colab_link": true
    },
    "kernelspec": {
      "name": "python3",
      "display_name": "Python 3"
    },
    "language_info": {
      "name": "python"
    }
  },
  "cells": [
    {
      "cell_type": "markdown",
      "metadata": {
        "id": "view-in-github",
        "colab_type": "text"
      },
      "source": [
        "<a href=\"https://colab.research.google.com/github/solis8-project/python-code/blob/main/playground.ipynb\" target=\"_parent\"><img src=\"https://colab.research.google.com/assets/colab-badge.svg\" alt=\"Open In Colab\"/></a>"
      ]
    },
    {
      "cell_type": "code",
      "metadata": {
        "id": "eT25NR39LgE4"
      },
      "source": [
        "class Point():\n",
        "  def __init__(self):\n",
        "    self.x = 0\n",
        "    self.y = 0\n",
        "\n",
        "  def print_c(self):\n",
        "    print(str(self.x) + \"----\" + str(self.y))\n"
      ],
      "execution_count": null,
      "outputs": []
    },
    {
      "cell_type": "code",
      "source": [
        "import re\n",
        "my_str = 'العبادي لتجارة المجوهرات Al Abbadi Jewellery Tr M'\n",
        "my_new_string = re.sub(r'[^\\x00-\\x7F]+', '', my_str)\n",
        "print(my_new_string)"
      ],
      "metadata": {
        "id": "iAZ1AlKeAUy5",
        "colab": {
          "base_uri": "https://localhost:8080/"
        },
        "outputId": "ff6ce685-1702-4cc7-da2e-0e538da74117"
      },
      "execution_count": null,
      "outputs": [
        {
          "output_type": "stream",
          "name": "stdout",
          "text": [
            "   Al Abbadi Jewel(lery Tr M\n"
          ]
        }
      ]
    },
    {
      "cell_type": "code",
      "source": [
        "import re\n",
        "# my_str = 'العبادي لتجارة'\n",
        "my_str = 'شكل'\n",
        "my_new_string = re.sub(r'[^\\x00-\\x7F]+', '', my_str)\n",
        "print(my_new_string == '')\n",
        "print(my_new_string is None)"
      ],
      "metadata": {
        "colab": {
          "base_uri": "https://localhost:8080/"
        },
        "id": "r6TkUKejrM3o",
        "outputId": "e7003ff5-c94e-4273-9d17-6a32eeb48237"
      },
      "execution_count": null,
      "outputs": [
        {
          "output_type": "stream",
          "name": "stdout",
          "text": [
            "True\n",
            "False\n"
          ]
        }
      ]
    },
    {
      "cell_type": "code",
      "source": [
        "import sys\n",
        "def equal_float(a,b):\n",
        "  return abs(a-b) <= sys.float_info.epsilon"
      ],
      "metadata": {
        "id": "YqdqoYr0gMfV"
      },
      "execution_count": 50,
      "outputs": []
    },
    {
      "cell_type": "code",
      "source": [
        "sys.float_info"
      ],
      "metadata": {
        "colab": {
          "base_uri": "https://localhost:8080/"
        },
        "id": "vNi91dfqgZ5O",
        "outputId": "33fe7b65-b085-439a-a6ea-8092c0fc848e"
      },
      "execution_count": 52,
      "outputs": [
        {
          "output_type": "execute_result",
          "data": {
            "text/plain": [
              "sys.float_info(max=1.7976931348623157e+308, max_exp=1024, max_10_exp=308, min=2.2250738585072014e-308, min_exp=-1021, min_10_exp=-307, dig=15, mant_dig=53, epsilon=2.220446049250313e-16, radix=2, rounds=1)"
            ]
          },
          "metadata": {},
          "execution_count": 52
        }
      ]
    },
    {
      "cell_type": "code",
      "source": [
        "import math\n",
        "math.ceil(13.9)"
      ],
      "metadata": {
        "colab": {
          "base_uri": "https://localhost:8080/"
        },
        "id": "wVig0CFIgbYL",
        "outputId": "731489a4-15d0-433a-9f12-9cc0439184a3"
      },
      "execution_count": 58,
      "outputs": [
        {
          "output_type": "execute_result",
          "data": {
            "text/plain": [
              "14"
            ]
          },
          "metadata": {},
          "execution_count": 58
        }
      ]
    },
    {
      "cell_type": "code",
      "source": [
        ""
      ],
      "metadata": {
        "id": "EYf1fatQgx9e"
      },
      "execution_count": null,
      "outputs": []
    }
  ]
}